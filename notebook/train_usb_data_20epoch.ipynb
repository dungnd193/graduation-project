{
 "cells": [
  {
   "cell_type": "markdown",
   "metadata": {},
   "source": [
    "Import Dependencies"
   ]
  },
  {
   "cell_type": "code",
   "execution_count": 1,
   "metadata": {},
   "outputs": [
    {
     "name": "stdout",
     "output_type": "stream",
     "text": [
      "WARNING:tensorflow:From c:\\Users\\Admin\\AppData\\Local\\Programs\\Python\\Python311\\Lib\\site-packages\\keras\\src\\losses.py:2976: The name tf.losses.sparse_softmax_cross_entropy is deprecated. Please use tf.compat.v1.losses.sparse_softmax_cross_entropy instead.\n",
      "\n"
     ]
    }
   ],
   "source": [
    "import tensorflow as tf\n",
    "import os\n",
    "gpus = tf.config.experimental.list_physical_devices('GPU')\n",
    "for gpu in gpus: \n",
    "    tf.config.experimental.set_memory_growth(gpu, True)\n",
    "\n",
    "import os\n",
    "import numpy as np\n",
    "import math\n",
    "import timeit\n",
    "import matplotlib.pyplot as plt\n",
    "\n",
    "%matplotlib inline"
   ]
  },
  {
   "cell_type": "markdown",
   "metadata": {},
   "source": [
    "Folder  \n",
    "├── train  \n",
    "│   ├── anhgoc  \n",
    "│   ├── catghep  \n",
    "│   ├── doimau  \n",
    "│   ├── saochep  \n",
    "│   ├── tutanh  \n",
    "│   └── xoay  \n",
    "├── val  \n",
    "│   ├── anhgoc  \n",
    "│   ├── catghep  \n",
    "│   ├── doimau  \n",
    "│   ├── saochep  \n",
    "│   ├── tutanh  \n",
    "│   └── xoay  \n",
    "└── test  \n",
    "    ├── anhgoc  \n",
    "    ├── catghep  \n",
    "    ├── doimau  \n",
    "    ├── saochep  \n",
    "    ├── tutanh  \n",
    "    └── xoay  \n"
   ]
  },
  {
   "cell_type": "code",
   "execution_count": 16,
   "metadata": {},
   "outputs": [],
   "source": [
    "from os import makedirs, listdir\n",
    "from shutil import copyfile\n",
    "from random import seed, random\n",
    "\n",
    "dataset_home = r'D:\\dungnd\\data\\Folder'\n",
    "subdirs = ['train', 'val', 'test']\n",
    "for subdir in subdirs:\n",
    "    # Create label subdirectories\n",
    "    labeldirs = ['anhgoc', 'catghep', 'doimau', 'saochep', 'tutanh', 'xoay']\n",
    "    for labldir in labeldirs:\n",
    "        newdir = os.path.join(dataset_home, subdir, labldir)\n",
    "        makedirs(newdir, exist_ok=True)\n",
    "\n"
   ]
  },
  {
   "cell_type": "code",
   "execution_count": 17,
   "metadata": {},
   "outputs": [
    {
     "name": "stdout",
     "output_type": "stream",
     "text": [
      "961\n",
      "1101\n",
      "1117\n",
      "1038\n",
      "1102\n",
      "1046\n"
     ]
    }
   ],
   "source": [
    "anhgoc_folder = r'D:\\dungnd\\data\\USB\\anhgoc'\n",
    "catghep_folder = r'D:\\dungnd\\data\\USB\\catghep'\n",
    "doimau_folder = r'D:\\dungnd\\data\\USB\\doimau'\n",
    "saochep_folder = r'D:\\dungnd\\data\\USB\\saochep'\n",
    "tutanh_folder = r'D:\\dungnd\\data\\USB\\tutanh'\n",
    "xoay_folder = r'D:\\dungnd\\data\\USB\\xoay'\n",
    "\n",
    "anhgoc_files = []\n",
    "catghep_files = []\n",
    "doimau_files = []\n",
    "saochep_files = []\n",
    "tutanh_files = []\n",
    "xoay_files = []\n",
    "\n",
    "for file in listdir(anhgoc_folder): \n",
    "    anhgoc_files.append(file)\n",
    "for file in listdir(catghep_folder): \n",
    "    catghep_files.append(file)\n",
    "for file in listdir(doimau_folder): \n",
    "    doimau_files.append(file)\n",
    "for file in listdir(saochep_folder): \n",
    "    saochep_files.append(file)\n",
    "for file in listdir(tutanh_folder): \n",
    "    tutanh_files.append(file)\n",
    "for file in listdir(xoay_folder): \n",
    "    xoay_files.append(file)\n",
    "\n",
    "\n",
    "\n",
    "\n",
    "print(len(anhgoc_files))\n",
    "print(len(catghep_files))\n",
    "print(len(doimau_files))\n",
    "print(len(saochep_files))\n",
    "print(len(tutanh_files))\n",
    "print(len(xoay_files))"
   ]
  },
  {
   "cell_type": "code",
   "execution_count": 18,
   "metadata": {},
   "outputs": [],
   "source": [
    "def train_validate_test_split(data, train_percent=.7, validate_percent=.2, seed=None):\n",
    "    np.random.seed(seed)\n",
    "    perm = np.random.permutation(np.arange(len(data)))\n",
    "    m = len(data)\n",
    "    train_end = int(train_percent * m)\n",
    "    validate_end = int(validate_percent * m) + train_end\n",
    "\n",
    "    train = np.array(data)[perm[:train_end]].copy()\n",
    "    validate = np.array(data)[perm[train_end:validate_end]].copy()\n",
    "    test = np.array(data)[perm[validate_end:]].copy()\n",
    "    return train, validate, test"
   ]
  },
  {
   "cell_type": "code",
   "execution_count": 19,
   "metadata": {},
   "outputs": [
    {
     "name": "stdout",
     "output_type": "stream",
     "text": [
      "D:\\dungnd\\data\\Folder\\train\\anhgoc\n",
      "All files deleted successfully.\n",
      "D:\\dungnd\\data\\Folder\\train\\catghep\n",
      "All files deleted successfully.\n",
      "D:\\dungnd\\data\\Folder\\train\\doimau\n",
      "All files deleted successfully.\n",
      "D:\\dungnd\\data\\Folder\\train\\saochep\n",
      "All files deleted successfully.\n",
      "D:\\dungnd\\data\\Folder\\train\\tutanh\n",
      "All files deleted successfully.\n",
      "D:\\dungnd\\data\\Folder\\train\\xoay\n",
      "All files deleted successfully.\n",
      "D:\\dungnd\\data\\Folder\\val\\anhgoc\n",
      "All files deleted successfully.\n",
      "D:\\dungnd\\data\\Folder\\val\\catghep\n",
      "All files deleted successfully.\n",
      "D:\\dungnd\\data\\Folder\\val\\doimau\n",
      "All files deleted successfully.\n",
      "D:\\dungnd\\data\\Folder\\val\\saochep\n",
      "All files deleted successfully.\n",
      "D:\\dungnd\\data\\Folder\\val\\tutanh\n",
      "All files deleted successfully.\n",
      "D:\\dungnd\\data\\Folder\\val\\xoay\n",
      "All files deleted successfully.\n",
      "D:\\dungnd\\data\\Folder\\test\\anhgoc\n",
      "All files deleted successfully.\n",
      "D:\\dungnd\\data\\Folder\\test\\catghep\n",
      "All files deleted successfully.\n",
      "D:\\dungnd\\data\\Folder\\test\\doimau\n",
      "All files deleted successfully.\n",
      "D:\\dungnd\\data\\Folder\\test\\saochep\n",
      "All files deleted successfully.\n",
      "D:\\dungnd\\data\\Folder\\test\\tutanh\n",
      "All files deleted successfully.\n",
      "D:\\dungnd\\data\\Folder\\test\\xoay\n",
      "All files deleted successfully.\n"
     ]
    }
   ],
   "source": [
    "def delete_files_in_directory(directory_path):\n",
    "   try:\n",
    "     files = os.listdir(directory_path)\n",
    "     for file in files:\n",
    "       file_path = os.path.join(directory_path, file)\n",
    "       if os.path.isfile(file_path):\n",
    "         os.remove(file_path)\n",
    "     print(\"All files deleted successfully.\")\n",
    "   except OSError:\n",
    "     print(\"Error occurred while deleting files.\")\n",
    "\n",
    "for subdir in subdirs:\n",
    "  labeldirs = ['anhgoc', 'catghep', 'doimau', 'saochep', 'tutanh', 'xoay']\n",
    "  for labldir in labeldirs:\n",
    "    dir = os.path.join(dataset_home, subdir, labldir)\n",
    "    print(dir)\n",
    "    delete_files_in_directory(dir)"
   ]
  },
  {
   "cell_type": "code",
   "execution_count": null,
   "metadata": {},
   "outputs": [],
   "source": [
    "train_anhgoc, val_anhgoc, test_anhgoc = train_validate_test_split(anhgoc_files, seed=42, train_percent=.7, validate_percent=.2)\n",
    "train_catghep, val_catghep, test_catghep = train_validate_test_split(catghep_files, seed=42, train_percent=.7, validate_percent=.2)\n",
    "train_doimau, val_doimau, test_doimau = train_validate_test_split(doimau_files, seed=42, train_percent=.7, validate_percent=.2)\n",
    "train_saochep, val_saochep, test_saochep = train_validate_test_split(saochep_files, seed=42, train_percent=.7, validate_percent=.2)\n",
    "train_tutanh, val_tutanh, test_tutanh = train_validate_test_split(tutanh_files, seed=42, train_percent=.7, validate_percent=.2)\n",
    "train_xoay, val_xoay, test_xoay = train_validate_test_split(xoay_files, seed=42, train_percent=.7, validate_percent=.2)\n",
    "\n",
    "# anhgoc\n",
    "list(map(lambda file: copyfile(anhgoc_folder + '\\\\' + file, dataset_home + '\\\\train\\\\anhgoc\\\\' + file), train_anhgoc))\n",
    "list(map(lambda file: copyfile(anhgoc_folder + '\\\\' + file, dataset_home + '\\\\val\\\\anhgoc\\\\' + file), val_anhgoc))\n",
    "list(map(lambda file: copyfile(anhgoc_folder + '\\\\' + file, dataset_home + '\\\\test\\\\anhgoc\\\\' + file), test_anhgoc))\n",
    "\n",
    "# catghep\n",
    "list(map(lambda file: copyfile(catghep_folder + '\\\\' + file, dataset_home + '\\\\train\\\\catghep\\\\' + file), train_catghep))\n",
    "list(map(lambda file: copyfile(catghep_folder + '\\\\' + file, dataset_home + '\\\\val\\\\catghep\\\\' + file), val_catghep))\n",
    "list(map(lambda file: copyfile(catghep_folder + '\\\\' + file, dataset_home + '\\\\test\\\\catghep\\\\' + file), test_catghep))\n",
    "\n",
    "# doimau\n",
    "list(map(lambda file: copyfile(doimau_folder + '\\\\' + file, dataset_home + '\\\\train\\\\doimau\\\\' + file), train_doimau))\n",
    "list(map(lambda file: copyfile(doimau_folder + '\\\\' + file, dataset_home + '\\\\val\\\\doimau\\\\' + file), val_doimau))\n",
    "list(map(lambda file: copyfile(doimau_folder + '\\\\' + file, dataset_home + '\\\\test\\\\doimau\\\\' + file), test_doimau))\n",
    "\n",
    "# saochep\n",
    "list(map(lambda file: copyfile(saochep_folder + '\\\\' + file, dataset_home + '\\\\train\\\\saochep\\\\' + file), train_saochep))\n",
    "list(map(lambda file: copyfile(saochep_folder + '\\\\' + file, dataset_home + '\\\\val\\\\saochep\\\\' + file), val_saochep))\n",
    "list(map(lambda file: copyfile(saochep_folder + '\\\\' + file, dataset_home + '\\\\test\\\\saochep\\\\' + file), test_saochep))\n",
    "\n",
    "# tutanh\n",
    "list(map(lambda file: copyfile(tutanh_folder + '\\\\' + file, dataset_home + '\\\\train\\\\tutanh\\\\' + file), train_tutanh))\n",
    "list(map(lambda file: copyfile(tutanh_folder + '\\\\' + file, dataset_home + '\\\\val\\\\tutanh\\\\' + file), val_tutanh))\n",
    "list(map(lambda file: copyfile(tutanh_folder + '\\\\' + file, dataset_home + '\\\\test\\\\tutanh\\\\' + file), test_tutanh))\n",
    "\n",
    "# xoay\n",
    "list(map(lambda file: copyfile(xoay_folder + '\\\\' + file, dataset_home + '\\\\train\\\\xoay\\\\' + file), train_xoay))\n",
    "list(map(lambda file: copyfile(xoay_folder + '\\\\' + file, dataset_home + '\\\\val\\\\xoay\\\\' + file), val_xoay))\n",
    "list(map(lambda file: copyfile(xoay_folder + '\\\\' + file, dataset_home + '\\\\test\\\\xoay\\\\' + file), test_xoay))\n"
   ]
  },
  {
   "cell_type": "code",
   "execution_count": 38,
   "metadata": {},
   "outputs": [
    {
     "name": "stdout",
     "output_type": "stream",
     "text": [
      "Found 4452 files belonging to 6 classes.\n",
      "Found 1271 files belonging to 6 classes.\n",
      "Found 641 files belonging to 6 classes.\n"
     ]
    }
   ],
   "source": [
    "data_dir = 'D:\\\\dungnd\\\\data\\\\Folder'\n",
    "\n",
    "train_data = os.path.join(data_dir,'train')\n",
    "valid_data = os.path.join(data_dir,'val')\n",
    "test_data = os.path.join(data_dir,'test')\n",
    "\n",
    "class_names = ['anhgoc', 'catghep', 'doimau', 'saochep', 'tutanh', 'xoay']\n",
    "\n",
    "# image_size = (1024, 1024)\n",
    "\n",
    "train = tf.keras.utils.image_dataset_from_directory(train_data,class_names=class_names, follow_links=True, shuffle=False, image_size=image_size)\n",
    "valid = tf.keras.utils.image_dataset_from_directory(valid_data,class_names=class_names, follow_links=True, shuffle=False, image_size=image_size)\n",
    "test = tf.keras.utils.image_dataset_from_directory(test_data,class_names=class_names, follow_links=True, shuffle=False, image_size=image_size)"
   ]
  },
  {
   "cell_type": "code",
   "execution_count": null,
   "metadata": {},
   "outputs": [],
   "source": [
    "train = train.map(lambda x,y: (x/255, y))\n",
    "valid = valid.map(lambda x,y: (x/255, y))"
   ]
  },
  {
   "cell_type": "code",
   "execution_count": 47,
   "metadata": {},
   "outputs": [],
   "source": [
    "import tensorflow as tf\n",
    "from tensorflow.keras.models import Sequential\n",
    "from tensorflow.keras.layers import Dense, Flatten, Conv2D, MaxPooling2D\n",
    "from tensorflow.keras.optimizers import Adam\n",
    "\n",
    "for gpu in tf.config.experimental.list_physical_devices('GPU'):\n",
    "    tf.compat.v2.config.experimental.set_memory_growth(gpu, True)\n",
    "\n",
    "def build_model():\n",
    "    model = Sequential()\n",
    "\n",
    "    model.add(Conv2D(64, (3,3), activation=\"relu\", padding=\"same\", kernel_initializer='he_uniform', name='block1_conv1', input_shape=(256, 256, 3)))\n",
    "    model.add(Conv2D(64, (3,3), activation=\"relu\", padding=\"same\", kernel_initializer='he_uniform', name='block1_conv2'))\n",
    "    model.add(MaxPooling2D(pool_size=(2,2), strides=(2,2), name='block1_maxpool'))\n",
    "\n",
    "    model.add(Conv2D(128, (3,3), activation=\"relu\", padding=\"same\", kernel_initializer='he_uniform', name='block2_conv1'))\n",
    "    model.add(Conv2D(128, (3,3), activation=\"relu\", padding=\"same\", kernel_initializer='he_uniform', name='block2_conv2'))\n",
    "    model.add(MaxPooling2D(pool_size=(2,2), strides=(2,2), name='block2_maxpool'))\n",
    "\n",
    "    model.add(Conv2D(256, (3,3), activation=\"relu\", padding=\"same\", kernel_initializer='he_uniform', name='block3_conv1'))\n",
    "    model.add(Conv2D(256, (3,3), activation=\"relu\", padding=\"same\", kernel_initializer='he_uniform', name='block3_conv2'))\n",
    "    model.add(Conv2D(256, (3,3), activation=\"relu\", padding=\"same\", kernel_initializer='he_uniform', name='block3_conv3'))\n",
    "    model.add(MaxPooling2D(pool_size=(2,2), strides=(2,2), name='block3_maxpool'))\n",
    "\n",
    "    model.add(Conv2D(512, (3,3), activation=\"relu\", padding=\"same\", kernel_initializer='he_uniform', name='block4_conv1'))\n",
    "    model.add(Conv2D(512, (3,3), activation=\"relu\", padding=\"same\", kernel_initializer='he_uniform', name='block4_conv2'))\n",
    "    model.add(Conv2D(512, (3,3), activation=\"relu\", padding=\"same\", kernel_initializer='he_uniform', name='block4_conv3'))\n",
    "    model.add(MaxPooling2D(pool_size=(2,2), strides=(2,2), name='block4_maxpool'))\n",
    "\n",
    "    model.add(Conv2D(512, (3,3), activation=\"relu\", padding=\"same\", kernel_initializer='he_uniform', name='block5_conv1'))\n",
    "    model.add(Conv2D(512, (3,3), activation=\"relu\", padding=\"same\", kernel_initializer='he_uniform', name='block5_conv2'))\n",
    "    model.add(Conv2D(512, (3,3), activation=\"relu\", padding=\"same\", kernel_initializer='he_uniform', name='block5_conv3'))\n",
    "    model.add(MaxPooling2D(pool_size=(2,2), strides=(2,2), name='block5_maxpool'))\n",
    "\n",
    "    model.add(Flatten())\n",
    "    model.add(Dense(4096, activation='relu'))\n",
    "    model.add(Dense(4096, activation='relu'))\n",
    "    model.add(Dense(6, activation='softmax'))\n",
    "\n",
    "    return model"
   ]
  },
  {
   "cell_type": "code",
   "execution_count": 48,
   "metadata": {},
   "outputs": [
    {
     "name": "stdout",
     "output_type": "stream",
     "text": [
      "Model: \"sequential_3\"\n",
      "_________________________________________________________________\n",
      " Layer (type)                Output Shape              Param #   \n",
      "=================================================================\n",
      " block1_conv1 (Conv2D)       (None, 256, 256, 64)      1792      \n",
      "                                                                 \n",
      " block1_conv2 (Conv2D)       (None, 256, 256, 64)      36928     \n",
      "                                                                 \n",
      " block1_maxpool (MaxPooling  (None, 128, 128, 64)      0         \n",
      " 2D)                                                             \n",
      "                                                                 \n",
      " block2_conv1 (Conv2D)       (None, 128, 128, 128)     73856     \n",
      "                                                                 \n",
      " block2_conv2 (Conv2D)       (None, 128, 128, 128)     147584    \n",
      "                                                                 \n",
      " block2_maxpool (MaxPooling  (None, 64, 64, 128)       0         \n",
      " 2D)                                                             \n",
      "                                                                 \n",
      " block3_conv1 (Conv2D)       (None, 64, 64, 256)       295168    \n",
      "                                                                 \n",
      " block3_conv2 (Conv2D)       (None, 64, 64, 256)       590080    \n",
      "                                                                 \n",
      " block3_conv3 (Conv2D)       (None, 64, 64, 256)       590080    \n",
      "                                                                 \n",
      " block3_maxpool (MaxPooling  (None, 32, 32, 256)       0         \n",
      " 2D)                                                             \n",
      "                                                                 \n",
      " block4_conv1 (Conv2D)       (None, 32, 32, 512)       1180160   \n",
      "                                                                 \n",
      " block4_conv2 (Conv2D)       (None, 32, 32, 512)       2359808   \n",
      "                                                                 \n",
      " block4_conv3 (Conv2D)       (None, 32, 32, 512)       2359808   \n",
      "                                                                 \n",
      " block4_maxpool (MaxPooling  (None, 16, 16, 512)       0         \n",
      " 2D)                                                             \n",
      "                                                                 \n",
      " block5_conv1 (Conv2D)       (None, 16, 16, 512)       2359808   \n",
      "                                                                 \n",
      " block5_conv2 (Conv2D)       (None, 16, 16, 512)       2359808   \n",
      "                                                                 \n",
      " block5_conv3 (Conv2D)       (None, 16, 16, 512)       2359808   \n",
      "                                                                 \n",
      " block5_maxpool (MaxPooling  (None, 8, 8, 512)         0         \n",
      " 2D)                                                             \n",
      "                                                                 \n",
      " flatten_3 (Flatten)         (None, 32768)             0         \n",
      "                                                                 \n",
      " dense_9 (Dense)             (None, 4096)              134221824 \n",
      "                                                                 \n",
      " dense_10 (Dense)            (None, 4096)              16781312  \n",
      "                                                                 \n",
      " dense_11 (Dense)            (None, 6)                 24582     \n",
      "                                                                 \n",
      "=================================================================\n",
      "Total params: 165742406 (632.26 MB)\n",
      "Trainable params: 165742406 (632.26 MB)\n",
      "Non-trainable params: 0 (0.00 Byte)\n",
      "_________________________________________________________________\n"
     ]
    }
   ],
   "source": [
    "model = build_model()\n",
    "learning_rate = 1e-4\n",
    "\n",
    "model.compile(optimizer=Adam(learning_rate=learning_rate),\n",
    "              loss='sparse_categorical_crossentropy',\n",
    "              metrics=['accuracy'])\n",
    "\n",
    "model.summary()\n"
   ]
  },
  {
   "cell_type": "code",
   "execution_count": 49,
   "metadata": {},
   "outputs": [
    {
     "name": "stdout",
     "output_type": "stream",
     "text": [
      "Epoch 1/20\n"
     ]
    },
    {
     "name": "stdout",
     "output_type": "stream",
     "text": [
      "WARNING:tensorflow:From c:\\Users\\Admin\\AppData\\Local\\Programs\\Python\\Python311\\Lib\\site-packages\\keras\\src\\utils\\tf_utils.py:492: The name tf.ragged.RaggedTensorValue is deprecated. Please use tf.compat.v1.ragged.RaggedTensorValue instead.\n",
      "\n",
      "WARNING:tensorflow:From c:\\Users\\Admin\\AppData\\Local\\Programs\\Python\\Python311\\Lib\\site-packages\\keras\\src\\engine\\base_layer_utils.py:384: The name tf.executing_eagerly_outside_functions is deprecated. Please use tf.compat.v1.executing_eagerly_outside_functions instead.\n",
      "\n",
      "140/140 [==============================] - 992s 7s/step - loss: 3623.7109 - accuracy: 0.7821 - val_loss: 58.8412 - val_accuracy: 0.1644\n",
      "Epoch 2/20\n",
      "140/140 [==============================] - 982s 7s/step - loss: 3.4576 - accuracy: 0.6817 - val_loss: 4.0350 - val_accuracy: 0.1644\n",
      "Epoch 3/20\n",
      "140/140 [==============================] - 926s 7s/step - loss: 1.6678 - accuracy: 0.3419 - val_loss: 23.3137 - val_accuracy: 0.1644\n",
      "Epoch 4/20\n",
      "140/140 [==============================] - 944s 7s/step - loss: 2.3736 - accuracy: 0.6406 - val_loss: 25.3999 - val_accuracy: 0.1644\n",
      "Epoch 5/20\n",
      "140/140 [==============================] - 931s 7s/step - loss: 1.9608 - accuracy: 0.6161 - val_loss: 17.0002 - val_accuracy: 0.1644\n",
      "Epoch 6/20\n",
      "140/140 [==============================] - 914s 7s/step - loss: 1.9238 - accuracy: 0.4513 - val_loss: 8.7771 - val_accuracy: 0.1644\n",
      "Epoch 7/20\n",
      "140/140 [==============================] - 927s 7s/step - loss: 1.5065 - accuracy: 0.5795 - val_loss: 24.8251 - val_accuracy: 0.1644\n",
      "Epoch 8/20\n",
      "140/140 [==============================] - 934s 7s/step - loss: 1.8651 - accuracy: 0.4295 - val_loss: 1.7988 - val_accuracy: 0.1731\n",
      "Epoch 9/20\n",
      "140/140 [==============================] - 923s 7s/step - loss: 1.7372 - accuracy: 0.5519 - val_loss: 25.3437 - val_accuracy: 0.1644\n",
      "Epoch 10/20\n",
      "140/140 [==============================] - 930s 7s/step - loss: 2.1548 - accuracy: 0.7433 - val_loss: 69.0034 - val_accuracy: 0.1644\n",
      "Epoch 11/20\n",
      "140/140 [==============================] - 919s 7s/step - loss: 2.0699 - accuracy: 0.6500 - val_loss: 27.4657 - val_accuracy: 0.1644\n",
      "Epoch 12/20\n",
      "140/140 [==============================] - 925s 7s/step - loss: 2.3364 - accuracy: 0.5177 - val_loss: 150.2787 - val_accuracy: 0.1644\n",
      "Epoch 13/20\n",
      "140/140 [==============================] - 921s 7s/step - loss: 2.4717 - accuracy: 0.6332 - val_loss: 2.0263 - val_accuracy: 0.1644\n",
      "Epoch 14/20\n",
      "140/140 [==============================] - 918s 7s/step - loss: 2.1533 - accuracy: 0.5321 - val_loss: 30.3688 - val_accuracy: 0.1644\n",
      "Epoch 15/20\n",
      "140/140 [==============================] - 928s 7s/step - loss: 2.1011 - accuracy: 0.5928 - val_loss: 2.5776 - val_accuracy: 0.1644\n",
      "Epoch 16/20\n",
      "140/140 [==============================] - 919s 7s/step - loss: 1.6807 - accuracy: 0.2156 - val_loss: 2.4405 - val_accuracy: 0.1644\n",
      "Epoch 17/20\n",
      "140/140 [==============================] - 925s 7s/step - loss: 1.8047 - accuracy: 0.1327 - val_loss: 3.0719 - val_accuracy: 0.1644\n",
      "Epoch 18/20\n",
      "140/140 [==============================] - 929s 7s/step - loss: 1.7441 - accuracy: 0.1691 - val_loss: 2.1348 - val_accuracy: 0.1644\n",
      "Epoch 19/20\n",
      "140/140 [==============================] - 928s 7s/step - loss: 2.3070 - accuracy: 0.6011 - val_loss: 8.0488 - val_accuracy: 0.1644\n",
      "Epoch 20/20\n",
      "140/140 [==============================] - 927s 7s/step - loss: 1.6679 - accuracy: 0.3558 - val_loss: 6.5268 - val_accuracy: 0.1644\n"
     ]
    }
   ],
   "source": [
    "checkpoint_filepath = 'checkpoint//usb_data_checkpoint//model_epoch_{epoch:02d}_val_accuracy_{val_accuracy:.2f}.h5'\n",
    "checkpoint_cb = tf.keras.callbacks.ModelCheckpoint(\n",
    "    filepath=checkpoint_filepath,\n",
    "    save_weights_only=True,\n",
    "    monitor='val_loss',\n",
    "    mode='min', #minimize the loss value\n",
    "    save_best_only=True)\n",
    "\n",
    "hist = model.fit(train, epochs=20, validation_data=valid, callbacks=[checkpoint_cb])"
   ]
  },
  {
   "cell_type": "code",
   "execution_count": 50,
   "metadata": {},
   "outputs": [
    {
     "data": {
      "image/png": "[encoded data removed]",
      "text/plain": [
       "<Figure size 640x480 with 1 Axes>"
      ]
     },
     "metadata": {},
     "output_type": "display_data"
    },
    {
     "data": {
      "image/png": "[encoded data removed]",
      "text/plain": [
       "<Figure size 640x480 with 1 Axes>"
      ]
     },
     "metadata": {},
     "output_type": "display_data"
    }
   ],
   "source": [
    "import sys\n",
    "import matplotlib.pyplot as plt\n",
    "\n",
    "def summarize_diagnostics(history):\n",
    "\n",
    "    plt.plot(history.history['accuracy'])\n",
    "    plt.plot(history.history['val_accuracy'])\n",
    "    plt.title('model accuracy')\n",
    "    plt.ylabel('accuracy')\n",
    "    plt.xlabel('epoch')\n",
    "    plt.legend(['train', 'val'], loc='upper left')\n",
    "    plt.show()\n",
    "\n",
    "    plt.plot(history.history['loss'])\n",
    "    plt.plot(history.history['val_loss'])\n",
    "    plt.title('model loss')\n",
    "    plt.ylabel('loss')\n",
    "    plt.xlabel('epoch')\n",
    "    plt.legend(['train', 'val'], loc='upper left')\n",
    "    plt.show()\n",
    "\n",
    "summarize_diagnostics(hist)"
   ]
  },
  {
   "cell_type": "code",
   "execution_count": 51,
   "metadata": {},
   "outputs": [],
   "source": [
    "from tensorflow.keras.metrics import Precision, Recall, BinaryAccuracy\n",
    "\n",
    "pre = Precision()\n",
    "re = Recall()\n",
    "acc = BinaryAccuracy()"
   ]
  },
  {
   "cell_type": "code",
   "execution_count": null,
   "metadata": {},
   "outputs": [],
   "source": [
    "for batch in test.as_numpy_iterator(): \n",
    "    X, y = batch\n",
    "    yhat = model.predict(X)\n",
    "    pre.update_state(y, yhat)\n",
    "    re.update_state(y, yhat)\n",
    "    acc.update_state(y, yhat)"
   ]
  },
  {
   "cell_type": "code",
   "execution_count": 60,
   "metadata": {},
   "outputs": [
    {
     "name": "stdout",
     "output_type": "stream",
     "text": [
      "21/21 [==============================] - 21s 971ms/step - loss: 1.7994 - accuracy: 0.1732\n"
     ]
    }
   ],
   "source": [
    "model.load_weights(r'D:\\dungnd\\GraduationProject\\notebook\\checkpoint\\usb_data_checkpoint\\model_epoch_08_val_accuracy_0.17.h5')\n",
    "\n",
    "# Evaluate the model on the test dataset\n",
    "loss, accuracy = model.evaluate(test)"
   ]
  },
  {
   "cell_type": "code",
   "execution_count": 61,
   "metadata": {},
   "outputs": [],
   "source": [
    "precision = Precision()\n",
    "recall = Recall()\n",
    "accuracy_metric = BinaryAccuracy()"
   ]
  },
  {
   "cell_type": "code",
   "execution_count": 62,
   "metadata": {},
   "outputs": [
    {
     "name": "stdout",
     "output_type": "stream",
     "text": [
      "1/1 [==============================] - 1s 1s/step\n",
      "1/1 [==============================] - 1s 1s/step\n",
      "1/1 [==============================] - 1s 1s/step\n",
      "1/1 [==============================] - 1s 935ms/step\n",
      "1/1 [==============================] - 1s 954ms/step\n",
      "1/1 [==============================] - 1s 999ms/step\n",
      "1/1 [==============================] - 1s 1s/step\n",
      "1/1 [==============================] - 1s 943ms/step\n",
      "1/1 [==============================] - 1s 1s/step\n",
      "1/1 [==============================] - 1s 982ms/step\n",
      "1/1 [==============================] - 1s 922ms/step\n",
      "1/1 [==============================] - 1s 987ms/step\n",
      "1/1 [==============================] - 1s 947ms/step\n",
      "1/1 [==============================] - 1s 1s/step\n",
      "1/1 [==============================] - 1s 855ms/step\n",
      "1/1 [==============================] - 1s 927ms/step\n",
      "1/1 [==============================] - 1s 1s/step\n",
      "1/1 [==============================] - 1s 945ms/step\n",
      "1/1 [==============================] - 1s 929ms/step\n",
      "1/1 [==============================] - 1s 948ms/step\n",
      "1/1 [==============================] - 0s 165ms/step\n"
     ]
    }
   ],
   "source": [
    "y_pred_list = []\n",
    "y_true_list = []\n",
    "\n",
    "# Iterate over the test dataset to make predictions and accumulate true labels\n",
    "for x, y_true in test:\n",
    "    y_pred = model.predict(x)\n",
    "    y_pred_list.extend(tf.argmax(y_pred, axis=1).numpy())\n",
    "    y_true_list.extend(y_true.numpy())"
   ]
  },
  {
   "cell_type": "code",
   "execution_count": 63,
   "metadata": {},
   "outputs": [
    {
     "name": "stdout",
     "output_type": "stream",
     "text": [
      "Precision: 0.84867394\n",
      "Recall: 1.0\n",
      "Accuracy: 0.17316693\n"
     ]
    }
   ],
   "source": [
    "precision.update_state(y_true_list, y_pred_list)\n",
    "recall.update_state(y_true_list, y_pred_list)\n",
    "accuracy_metric.update_state(y_true_list, y_pred_list)\n",
    "\n",
    "\n",
    "precision_result = precision.result().numpy()\n",
    "recall_result = recall.result().numpy()\n",
    "accuracy_result = accuracy_metric.result().numpy()\n",
    "\n",
    "print(\"Precision:\", precision_result)\n",
    "print(\"Recall:\", recall_result)\n",
    "print(\"Accuracy:\", accuracy_result)"
   ]
  },
  {
   "cell_type": "code",
   "execution_count": 64,
   "metadata": {},
   "outputs": [
    {
     "data": {
      "text/plain": [
       "['anhgoc', 'catghep', 'doimau', 'saochep', 'tutanh', 'xoay']"
      ]
     },
     "execution_count": 64,
     "metadata": {},
     "output_type": "execute_result"
    }
   ],
   "source": [
    "from sklearn.metrics import classification_report\n",
    "class_names"
   ]
  },
  {
   "cell_type": "code",
   "execution_count": 65,
   "metadata": {},
   "outputs": [
    {
     "name": "stdout",
     "output_type": "stream",
     "text": [
      "              precision    recall  f1-score   support\n",
      "\n",
      "      anhgoc       0.00      0.00      0.00        97\n",
      "     catghep       0.00      0.00      0.00       111\n",
      "      doimau       0.00      0.00      0.00       113\n",
      "     saochep       0.00      0.00      0.00       105\n",
      "      tutanh       0.17      1.00      0.30       111\n",
      "        xoay       0.00      0.00      0.00       104\n",
      "\n",
      "    accuracy                           0.17       641\n",
      "   macro avg       0.03      0.17      0.05       641\n",
      "weighted avg       0.03      0.17      0.05       641\n",
      "\n"
     ]
    },
    {
     "name": "stderr",
     "output_type": "stream",
     "text": [
      "c:\\Users\\Admin\\AppData\\Local\\Programs\\Python\\Python311\\Lib\\site-packages\\sklearn\\metrics\\_classification.py:1471: UndefinedMetricWarning: Precision and F-score are ill-defined and being set to 0.0 in labels with no predicted samples. Use `zero_division` parameter to control this behavior.\n",
      "  _warn_prf(average, modifier, msg_start, len(result))\n",
      "c:\\Users\\Admin\\AppData\\Local\\Programs\\Python\\Python311\\Lib\\site-packages\\sklearn\\metrics\\_classification.py:1471: UndefinedMetricWarning: Precision and F-score are ill-defined and being set to 0.0 in labels with no predicted samples. Use `zero_division` parameter to control this behavior.\n",
      "  _warn_prf(average, modifier, msg_start, len(result))\n",
      "c:\\Users\\Admin\\AppData\\Local\\Programs\\Python\\Python311\\Lib\\site-packages\\sklearn\\metrics\\_classification.py:1471: UndefinedMetricWarning: Precision and F-score are ill-defined and being set to 0.0 in labels with no predicted samples. Use `zero_division` parameter to control this behavior.\n",
      "  _warn_prf(average, modifier, msg_start, len(result))\n"
     ]
    }
   ],
   "source": [
    "print(classification_report(y_true_list, y_pred_list, target_names=class_names))"
   ]
  },
  {
   "cell_type": "code",
   "execution_count": null,
   "metadata": {},
   "outputs": [],
   "source": []
  }
 ],
 "metadata": {
  "kernelspec": {
   "display_name": "Python 3",
   "language": "python",
   "name": "python3"
  },
  "language_info": {
   "codemirror_mode": {
    "name": "ipython",
    "version": 3
   },
   "file_extension": ".py",
   "mimetype": "text/x-python",
   "name": "python",
   "nbconvert_exporter": "python",
   "pygments_lexer": "ipython3",
   "version": "3.11.5"
  }
 },
 "nbformat": 4,
 "nbformat_minor": 2
}
